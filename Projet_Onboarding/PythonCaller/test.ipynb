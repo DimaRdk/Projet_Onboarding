{
 "cells": [
  {
   "cell_type": "code",
   "execution_count": 1,
   "metadata": {},
   "outputs": [],
   "source": [
    "from llm_core.assistants import OpenAIAssistant , Analyst\n",
    "from dataclasses import dataclass\n",
    "from datetime import datetime\n",
    "from langchain_openai import ChatOpenAI\n",
    "from langchain_core.output_parsers import StrOutputParser\n",
    "import os \n",
    "from langchain_core.prompts import ChatPromptTemplate \n",
    "from langchain.prompts import PromptTemplate\n",
    "from langchain.chains import LLMChain"
   ]
  },
  {
   "cell_type": "code",
   "execution_count": 2,
   "metadata": {},
   "outputs": [],
   "source": [
    "model = \"gpt-3.5-turbo-0613\"\n",
    "assistant = OpenAIAssistant\n",
    "\n",
    "@dataclass\n",
    "class EventRequette :\n",
    "  \n",
    "    system_prompt = \"You are a system assistant specialiszing in wrting / explaining \"\n",
    "    prompt = \"\"\" #Context \n",
    "    In our Api we record all the actions of different users with different informations \n",
    "\n",
    "    #TODO :\n",
    "    Use the information contained in {events} to make a professional presentation of each event as accurately as possible, separated into points: one point per event.Each presentation must be written. \n",
    "    I want you to write in in the requested language : {lang}.\n",
    "    Write the event presentation directly  \"\"\"\n",
    "    response: str"
   ]
  },
  {
   "cell_type": "code",
   "execution_count": 3,
   "metadata": {},
   "outputs": [],
   "source": [
    "def test_py_llm_core_first(data):\n",
    "    with OpenAIAssistant(EventRequette, model) as assistant: \n",
    "        response  = assistant.process(events = data, lang = \"en\")\n",
    "    final_response = response.response\n",
    "    print(final_response)"
   ]
  },
  {
   "cell_type": "code",
   "execution_count": 4,
   "metadata": {},
   "outputs": [],
   "source": [
    "def test_py_llm_core_second(data):\n",
    "    analyst = Analyst(model , assistant)\n",
    "    query = \"\"\"Use the informations provided in data to make a professional presentation of each event as accurately as possible and with as many ifnormations as possible, separated into points: one point per event. Each point must be written with natural sentences. \n",
    "    I want you to write in in the requested language : {lang}.\n",
    "    \"\"\"\n",
    "    context  = {\"context\": \"In our Api we record all the actions of different users with different informations\",\n",
    "                \"lang\": \"en \",\n",
    "                \"data\": data}\n",
    "    response = analyst.ask(query, context)\n",
    "    print(response.content)"
   ]
  },
  {
   "cell_type": "code",
   "execution_count": 5,
   "metadata": {},
   "outputs": [],
   "source": [
    "events = [\n",
    "        {\n",
    "            \"user\": \"\",\n",
    "            \"user_group\" : \"iii\",\n",
    "            \"event\": \"ButtonClicked\",\n",
    "            \"created\": datetime.now().isoformat(),\n",
    "            \"userinfo\": \"usersystem\",\n",
    "            \"feature\": \"analyse_doc:ChooseDoc\",\n",
    "            \"action_type\": \"CHOOSE\"\n",
    "        },\n",
    "        {\n",
    "            \"user\": \"2\",\n",
    "            \"user_group\" : \"iv\",\n",
    "            \"event\": \"PageLoaded\",\n",
    "            \"created\": datetime.now().isoformat(),\n",
    "            \"userinfo\": \"usersystem\",\n",
    "            \"feature\": \"analyse_doc:ViewDoc\",\n",
    "            \"action_type\": \"ASKMEYA\"\n",
    "        },\n",
    "        {\n",
    "            \"user\": \"1\",\n",
    "            \"user_group\" : \"v\",\n",
    "            \"event\": \"FormSubmitted\",\n",
    "            \"created\": datetime.now().isoformat(),\n",
    "            \"userinfo\": \"usersystem\",\n",
    "            \"feature\": \"analyse_doc:SubmitDoc\",\n",
    "            \"action_type\": \"CREATE\"\n",
    "        },\n",
    "        {\n",
    "            \"user\": \"3\",\n",
    "            \"user_group\": \"admin\",\n",
    "            \"event\": \"ButtonClicked\",\n",
    "            \"created\": \"2023-03-01T14:00:00Z\",\n",
    "            \"userinfo\": \"John Doe\",\n",
    "            \"feature\": \"search\",\n",
    "            \"action_type\": \"NAVIGATE\"\n",
    "        },\n",
    "        {\n",
    "            \"user\": \"3\",\n",
    "            \"user_group\": \"user\",\n",
    "            \"event\": \"DocumentModified\",\n",
    "            \"created\": \"2023-03-01T13:00:00Z\",\n",
    "            \"userinfo\": \"Jane Doe\",\n",
    "            \"feature\": \"documents\",\n",
    "            \"action_type\": \"MODIF\"\n",
    "        }\n",
    "        \n",
    "    ]"
   ]
  },
  {
   "cell_type": "code",
   "execution_count": 6,
   "metadata": {},
   "outputs": [
    {
     "name": "stdout",
     "output_type": "stream",
     "text": [
      "Event Presentations:\n",
      "\n",
      "1. User 'iii' clicked a button on 'analyse_doc:ChooseDoc' feature at '2024-02-12T13:56:53.087786'.\n",
      "\n",
      "2. User '2' from user group 'iv' loaded a page on 'analyse_doc:ViewDoc' feature at '2024-02-12T13:56:53.087797'.\n",
      "\n",
      "3. User '1' from user group 'v' submitted a form on 'analyse_doc:SubmitDoc' feature at '2024-02-12T13:56:53.087799'.\n",
      "\n",
      "4. User '3' from user group 'admin' clicked a button on 'search' feature at '2023-03-01T14:00:00Z'.\n",
      "\n",
      "5. User '3' from user group 'user' modified a document on 'documents' feature at '2023-03-01T13:00:00Z'.\n"
     ]
    }
   ],
   "source": [
    "test_py_llm_core_first(events)"
   ]
  },
  {
   "cell_type": "code",
   "execution_count": 7,
   "metadata": {},
   "outputs": [
    {
     "name": "stdout",
     "output_type": "stream",
     "text": [
      "Sure! Here is a professional presentation of each event:\n",
      "\n",
      "1. User group 'iii' clicked a button on 'analyse_doc:ChooseDoc' feature at '2024-02-12T13:56:53.087786'.\n",
      "\n",
      "2. User '2' from user group 'iv' loaded a page on 'analyse_doc:ViewDoc' feature at '2024-02-12T13:56:53.087797'.\n",
      "\n",
      "3. User '1' from user group 'v' submitted a form on 'analyse_doc:SubmitDoc' feature at '2024-02-12T13:56:53.087799'.\n",
      "\n",
      "4. User '3' from user group 'admin' clicked a button on 'search' feature at '2023-03-01T14:00:00Z'.\n",
      "\n",
      "5. User '3' from user group 'user' modified a document on 'documents' feature at '2023-03-01T13:00:00Z'.\n"
     ]
    }
   ],
   "source": [
    "test_py_llm_core_second(events)"
   ]
  },
  {
   "cell_type": "code",
   "execution_count": 8,
   "metadata": {},
   "outputs": [],
   "source": [
    "def test_langchain(events):\n",
    "    putpout_parser = StrOutputParser()\n",
    "    prompt_template =  ChatPromptTemplate.from_template(\n",
    "    \"\"\"Use the informations provided in {data} to make a professional presentation of each event as accurately as possible and with as many ifnormations as possible, separated into points: one point per event. Each point must be written with natural sentences. \n",
    "        I want you to write in in the requested language  :{lang} .\n",
    "        \"\"\")\n",
    "    llm = ChatOpenAI(temperature=0.9, model_name=\"gpt-3.5-turbo\")\n",
    "    chain = prompt_template | llm | putpout_parser\n",
    "\n",
    "    resp= chain.invoke({\"data\":events,\"lang\":\"en\"})\n",
    "    print(resp)"
   ]
  },
  {
   "cell_type": "code",
   "execution_count": 9,
   "metadata": {},
   "outputs": [
    {
     "name": "stdout",
     "output_type": "stream",
     "text": [
      "1. User group \"iii\" clicked a button on the \"analyse_doc\" feature named \"ChooseDoc\" at 13:56:53 on February 12, 2024. This action was performed by the system user \"usersystem\".\n",
      "\n",
      "2. User group \"iv\" loaded a page on the \"analyse_doc\" feature named \"ViewDoc\" at 13:56:53 on February 12, 2024. This action was performed by the system user \"usersystem\".\n",
      "\n",
      "3. User group \"v\" submitted a form on the \"analyse_doc\" feature named \"SubmitDoc\" at 13:56:53 on February 12, 2024. This action was performed by the system user \"usersystem\".\n",
      "\n",
      "4. User with ID \"3\" and user group \"admin\" clicked a button on the \"search\" feature at 14:00:00 on March 1, 2023. This action was performed by the user named \"John Doe\".\n",
      "\n",
      "5. User with ID \"3\" and user group \"user\" modified a document on the \"documents\" feature at 13:00:00 on March 1, 2023. This action was performed by the user named \"Jane Doe\".\n"
     ]
    }
   ],
   "source": [
    "test_langchain(events)"
   ]
  },
  {
   "cell_type": "code",
   "execution_count": 10,
   "metadata": {},
   "outputs": [],
   "source": [
    "def test_longchain_second(events):\n",
    "    pout_parser = StrOutputParser()\n",
    "    prompt_template = PromptTemplate(\n",
    "        input_variables=[\"events\",\"lang\"],\n",
    "        template = \"\"\"Use the informations provided in {events} to make a professional presentation of each event as accurately as possible and with as many ifnormations as possible, separated into points: one point per event. Each point must be written with natural sentences. \n",
    "        I want you to write in in the requested language  :{lang} .\n",
    "        \"\"\"\n",
    "    )\n",
    "    llm = ChatOpenAI(temperature=0.9, model_name=\"gpt-3.5-turbo\")\n",
    "    chain = LLMChain(llm=llm, prompt=prompt_template, output_parser=pout_parser)\n",
    "    result = chain.run(events=events, lang=\"fr\")\n",
    "    print(result)\n",
    "    "
   ]
  },
  {
   "cell_type": "code",
   "execution_count": 11,
   "metadata": {},
   "outputs": [
    {
     "name": "stderr",
     "output_type": "stream",
     "text": [
      "/home/dima/.virtualenvs/djangoEnv/lib/python3.11/site-packages/langchain_core/_api/deprecation.py:117: LangChainDeprecationWarning: The function `run` was deprecated in LangChain 0.1.0 and will be removed in 0.2.0. Use invoke instead.\n",
      "  warn_deprecated(\n"
     ]
    },
    {
     "name": "stdout",
     "output_type": "stream",
     "text": [
      "Voici une présentation professionnelle de chaque événement, en utilisant les informations fournies :\n",
      "\n",
      "1. Un utilisateur du groupe iii a cliqué sur un bouton pour choisir un document dans la fonctionnalité \"analyse_doc:ChooseDoc\". Cet événement s'est produit le 12 février 2024 à 13h56 et 53 secondes. L'utilisateur était identifié dans le système sous le nom \"usersystem\".\n",
      "\n",
      "2. Un utilisateur du groupe iv a chargé une page dans la fonctionnalité \"analyse_doc:ViewDoc\". Cet événement s'est également produit le 12 février 2024 à 13h56 et 53 secondes. L'utilisateur était identifié sous le numéro 2 et son groupe était \"iv\". L'action était de demander quelque chose avec l'action_type \"ASKMEYA\".\n",
      "\n",
      "3. Un utilisateur du groupe v a soumis un formulaire dans la fonctionnalité \"analyse_doc:SubmitDoc\". Cet événement a eu lieu le 12 février 2024 à 13h56 et 53 secondes. L'utilisateur était identifié sous le numéro 1 et son groupe était \"v\". L'action effectuée était de créer quelque chose avec l'action_type \"CREATE\".\n",
      "\n",
      "4. Un administrateur a cliqué sur un bouton pour naviguer dans la fonctionnalité \"search\". Cet événement s'est produit le 1er mars 2023 à 14h00. L'utilisateur était identifié sous le nom \"John Doe\" et son groupe était \"admin\".\n",
      "\n",
      "5. Un utilisateur a modifié un document dans la fonctionnalité \"documents\". Cet événement a eu lieu le 1er mars 2023 à 13h00. L'utilisateur était identifié sous le nom \"Jane Doe\" et son groupe était \"user\". L'action effectuée était de modifier quelque chose avec l'action_type \"MODIF\".\n",
      "\n",
      "Ces informations présentent de manière précise et détaillée chaque événement, en mettant en évidence les utilisateurs, les groupes auxquels ils appartiennent, les fonctionnalités utilisées, les actions effectuées et les horodatages des événements.\n"
     ]
    }
   ],
   "source": [
    "test_longchain_second(events)"
   ]
  }
 ],
 "metadata": {
  "kernelspec": {
   "display_name": "djangoEnv",
   "language": "python",
   "name": "python3"
  },
  "language_info": {
   "codemirror_mode": {
    "name": "ipython",
    "version": 3
   },
   "file_extension": ".py",
   "mimetype": "text/x-python",
   "name": "python",
   "nbconvert_exporter": "python",
   "pygments_lexer": "ipython3",
   "version": "3.11.5"
  }
 },
 "nbformat": 4,
 "nbformat_minor": 2
}
